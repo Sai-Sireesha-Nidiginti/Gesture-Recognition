{
 "cells": [
  {
   "cell_type": "markdown",
   "metadata": {},
   "source": [
    "# Gesture Recognition\n",
    "In this group project, you are going to build a 3D Conv model that will be able to predict the 5 gestures correctly. Please import the following libraries to get started."
   ]
  },
  {
   "cell_type": "code",
   "execution_count": 1,
   "metadata": {},
   "outputs": [],
   "source": [
    "import numpy as np\n",
    "import os\n",
    "from scipy.misc import imread, imresize\n",
    "import datetime\n",
    "import os\n",
    "import cv2"
   ]
  },
  {
   "cell_type": "code",
   "execution_count": 2,
   "metadata": {},
   "outputs": [
    {
     "name": "stdout",
     "output_type": "stream",
     "text": [
      "3.6.8\n",
      "1.1.0\n"
     ]
    }
   ],
   "source": [
    "from platform import python_version\n",
    "print(python_version())\n",
    "import scipy\n",
    "print(scipy.__version__)"
   ]
  },
  {
   "cell_type": "markdown",
   "metadata": {},
   "source": [
    "We set the random seed so that the results don't vary drastically."
   ]
  },
  {
   "cell_type": "code",
   "execution_count": 3,
   "metadata": {},
   "outputs": [
    {
     "name": "stderr",
     "output_type": "stream",
     "text": [
      "Using TensorFlow backend.\n"
     ]
    },
    {
     "name": "stdout",
     "output_type": "stream",
     "text": [
      "keras version: 2.2.2\n",
      "tensorflow version: 1.10.0\n"
     ]
    }
   ],
   "source": [
    "np.random.seed(30)\n",
    "import random as rn\n",
    "rn.seed(30)\n",
    "\n",
    "import keras\n",
    "from keras import backend as K\n",
    "print('keras version:', keras.__version__)\n",
    "\n",
    "import tensorflow as tf\n",
    "print('tensorflow version:', tf.__version__)\n",
    "tf.set_random_seed(30)\n",
    "#tf.random.set_seed(30)"
   ]
  },
  {
   "cell_type": "markdown",
   "metadata": {},
   "source": [
    "config = tf.ConfigProto()\n",
    "config.gpu_options.allow_growth = True \n",
    "config.log_device_placement = True\n",
    "sess = tf.Session(config=config)\n",
    "tf.keras.backend.set_session(sess)"
   ]
  },
  {
   "cell_type": "markdown",
   "metadata": {},
   "source": [
    "In this block, you read the folder names for training and validation. You also set the `batch_size` here. Note that you set the batch size in such a way that you are able to use the GPU in full capacity. You keep increasing the batch size until the machine throws an error."
   ]
  },
  {
   "cell_type": "markdown",
   "metadata": {},
   "source": [
    "train_doc = np.random.permutation(open('/Users/sarath_mac/Downloads/upGrad/assignment_neural/Project_data/train.csv').readlines())\n",
    "val_doc = np.random.permutation(open('/Users/sarath_mac/Downloads/upGrad/assignment_neural/Project_data/val.csv').readlines())\n",
    "batch_size = 32"
   ]
  },
  {
   "cell_type": "code",
   "execution_count": 4,
   "metadata": {},
   "outputs": [],
   "source": [
    "train_doc = np.random.permutation(open('./Project_data/train.csv').readlines())\n",
    "val_doc = np.random.permutation(open('./Project_data/val.csv').readlines())\n",
    "batch_size = 32 #experiment with the batch size"
   ]
  },
  {
   "cell_type": "code",
   "execution_count": 5,
   "metadata": {},
   "outputs": [],
   "source": [
    "#Declare Variables \n",
    "input_rows=32\n",
    "input_cols=32\n",
    "input_channels=3\n",
    "num_images=16\n",
    "Num_Classes=5\n",
    "batch_inp_shape=(batch_size,num_images,input_rows,input_cols,input_channels)"
   ]
  },
  {
   "cell_type": "markdown",
   "metadata": {},
   "source": [
    "## Generator\n",
    "This is one of the most important part of the code. The overall structure of the generator has been given. In the generator, you are going to preprocess the images as you have images of 2 different dimensions as well as create a batch of video frames. You have to experiment with `img_idx`, `y`,`z` and normalization such that you get high accuracy."
   ]
  },
  {
   "cell_type": "code",
   "execution_count": 6,
   "metadata": {},
   "outputs": [],
   "source": [
    "def generator(source_path, folder_list, batch_size):\n",
    "    print( 'Source path = ', source_path, '; batch size =', batch_size)\n",
    "    img_idx = [i*2 for i in range(15)] #create a list of image numbers you want to use for a particular video\n",
    "    while True:\n",
    "        t = np.random.permutation(folder_list)\n",
    "        num_batches = len(folder_list)//batch_size # calculate the number of batches\n",
    "        for batch in range(num_batches): # we iterate over the number of batches\n",
    "#            print('batch: ',batch)\n",
    "            batch_data = np.zeros((batch_size,num_images,input_rows,input_cols,input_channels)) # x is the number of images you use for each video, (y,z) is the final size of the input images and 3 is the number of channels RGB\n",
    "            batch_labels = np.zeros((batch_size,Num_Classes)) # batch_labels is the one hot representation of the output\n",
    "            for folder in range(batch_size): # iterate over the batch_size\n",
    "                imgs = os.listdir(source_path+'/'+ t[folder + (batch*batch_size)].split(';')[0]) # read all the images in the folder\n",
    "                for idx,item in enumerate(img_idx): #  Iterate iver the frames/images of a folder to read them in\n",
    "                    image = imread(source_path+'/'+ t[folder + (batch*batch_size)].strip().split(';')[0]+'/'+imgs[item]).astype(np.float32)\n",
    "                    \n",
    "                    #crop the images and resize them. Note that the images are of 2 different shape \n",
    "                    #and the conv3D will throw error if the inputs in a batch have different shapes\n",
    "                    img=imresize(image,(input_rows,input_cols,input_channels))\n",
    "                    norm_image = cv2.normalize(img, None, alpha=0, beta=1, norm_type=cv2.NORM_MINMAX, dtype=cv2.CV_32F)\n",
    "                    batch_data[folder,idx,:,:,0] = norm_image[:,:,0] #normalise and feed in the image\n",
    "                    \n",
    "                    batch_data[folder,idx,:,:,1] = norm_image[:,:,1] #normalise and feed in the image\n",
    "                    \n",
    "                    batch_data[folder,idx,:,:,2] = norm_image[:,:,2] #normalise and feed in the image\n",
    "                    \n",
    "                batch_labels[folder, int(t[folder + (batch*batch_size)].strip().split(';')[2])] = 1\n",
    "            yield batch_data, batch_labels #you yield the batch_data and the batch_labels, remember what does yield do\n",
    "\n",
    "        \n",
    "        # write the code for the remaining data points which are left after full batches\n",
    "        if (len(folder_list)%batch_size) !=0:\n",
    " #           print('batch=20')\n",
    "            imgs = os.listdir(source_path+'/'+t[((len(folder_list)%batch_size)-1) + ((len(folder_list)//batch_size)*batch_size)].split(';')[0]) # read all the images in the folder\n",
    "            for idx,item in enumerate(img_idx): #  Iterate iver the frames/images of a folder to read them in\n",
    "                image = imread(source_path+'/'+ t[((len(folder_list)%batch_size)-1) + ((len(folder_list)//batch_size)*batch_size)].strip().split(';')[0]+'/'+imgs[item]).astype(np.float32)\n",
    "                    \n",
    "                #crop the images and resize them. Note that the images are of 2 different shape \n",
    "                #and the conv3D will throw error if the inputs in a batch have different shapes\n",
    "                img=imresize(image,(input_rows,input_cols,input_channels))\n",
    "                norm_image = cv2.normalize(img, None, alpha=0, beta=1, norm_type=cv2.NORM_MINMAX, dtype=cv2.CV_32F)\n",
    "                batch_data[folder,idx,:,:,0] = norm_image[:,:,0] #normalise and feed in the image\n",
    "                  \n",
    "                batch_data[folder,idx,:,:,1] = norm_image[:,:,1] #normalise and feed in the image\n",
    "                \n",
    "                batch_data[folder,idx,:,:,2] = norm_image[:,:,2] #normalise and feed in the image\n",
    "                    \n",
    "            batch_labels[folder, int(t[((len(folder_list)%batch_size)-1) + ((len(folder_list)//batch_size)*batch_size)].strip().split(';')[2])] = 1\n",
    "            yield batch_data, batch_labels #you yield the batch_data and the batch_labels, remember what does yield do"
   ]
  },
  {
   "cell_type": "markdown",
   "metadata": {},
   "source": [
    "Note here that a video is represented above in the generator as (number of images, height, width, number of channels). Take this into consideration while creating the model architecture."
   ]
  },
  {
   "cell_type": "markdown",
   "metadata": {},
   "source": [
    "curr_dt_time = datetime.datetime.now()\n",
    "train_path = '/Users/sarath_mac/Downloads/upGrad/assignment_neural/train'\n",
    "val_path = '/Users/sarath_mac/Downloads/upGrad/assignment_neural/val'\n",
    "num_train_sequences = len(train_doc)\n",
    "print('# training sequences =', num_train_sequences)\n",
    "num_val_sequences = len(val_doc)\n",
    "print('# validation sequences =', num_val_sequences)\n",
    "num_epochs = 5\n",
    "print ('# epochs =', num_epochs)"
   ]
  },
  {
   "cell_type": "code",
   "execution_count": 7,
   "metadata": {},
   "outputs": [
    {
     "name": "stdout",
     "output_type": "stream",
     "text": [
      "# training sequences = 663\n",
      "# validation sequences = 100\n",
      "# epochs = 50\n"
     ]
    }
   ],
   "source": [
    "curr_dt_time = datetime.datetime.now()\n",
    "train_path = \"./Project_data/train\"\n",
    "val_path = \"./Project_data/val\"\n",
    "num_train_sequences = len(train_doc)\n",
    "print('# training sequences =', num_train_sequences)\n",
    "num_val_sequences = len(val_doc)\n",
    "print('# validation sequences =', num_val_sequences)\n",
    "num_epochs = 50 # choose the number of epochs\n",
    "print ('# epochs =', num_epochs)"
   ]
  },
  {
   "cell_type": "markdown",
   "metadata": {},
   "source": [
    "## Model\n",
    "Here you make the model using different functionalities that Keras provides. Remember to use `Conv3D` and `MaxPooling3D` and not `Conv2D` and `Maxpooling2D` for a 3D convolution model. You would want to use `TimeDistributed` while building a Conv2D + RNN model. Also remember that the last layer is the softmax. Design the network in such a way that the model is able to give good accuracy on the least number of parameters so that it can fit in the memory of the webcam."
   ]
  },
  {
   "cell_type": "markdown",
   "metadata": {},
   "source": [
    "# CONV2D +RNN"
   ]
  },
  {
   "cell_type": "code",
   "execution_count": 8,
   "metadata": {},
   "outputs": [],
   "source": [
    "from keras.models import Sequential, Model\n",
    "from keras.layers import Dense, GRU, Flatten, TimeDistributed, Flatten, BatchNormalization, Activation\n",
    "from keras.layers.convolutional import Conv2D, MaxPooling2D\n",
    "from keras.callbacks import ModelCheckpoint, ReduceLROnPlateau\n",
    "from keras import optimizers\n",
    "\n",
    "#write your model here\n",
    "#covolution layers\n",
    "conv2d_model = Sequential()\n",
    "conv2d_model.add(TimeDistributed(Conv2D(32,kernel_size=(3,3),activation='relu',padding='same',data_format=\"channels_last\",batch_input_shape=batch_inp_shape)))\n",
    "conv2d_model.add(TimeDistributed(BatchNormalization()))\n",
    "\n",
    "conv2d_model.add(TimeDistributed(Conv2D(64,kernel_size=(3,3),activation='relu')))\n",
    "conv2d_model.add(TimeDistributed(BatchNormalization()))\n",
    "conv2d_model.add(TimeDistributed(MaxPooling2D(pool_size=(2,2))))\n",
    "\n",
    "# extract features\n",
    "conv2d_model.add(TimeDistributed(Flatten()))\n",
    "\n",
    "#RNN layers\n",
    "conv2d_model.add(GRU(8, return_sequences=True))\n",
    "conv2d_model.add(Flatten())\n",
    "conv2d_model.add(Dense(32,activation='relu'))\n",
    "conv2d_model.add(Dense(Num_Classes,activation='softmax'))"
   ]
  },
  {
   "cell_type": "markdown",
   "metadata": {},
   "source": [
    "Now that you have written the model, the next step is to `compile` the model. When you print the `summary` of the model, you'll see the total number of parameters you have to train."
   ]
  },
  {
   "cell_type": "code",
   "execution_count": 9,
   "metadata": {},
   "outputs": [
    {
     "name": "stdout",
     "output_type": "stream",
     "text": [
      "_________________________________________________________________\n",
      "Layer (type)                 Output Shape              Param #   \n",
      "=================================================================\n",
      "time_distributed_1 (TimeDist (32, 16, 32, 32, 32)      896       \n",
      "_________________________________________________________________\n",
      "time_distributed_2 (TimeDist (32, 16, 32, 32, 32)      128       \n",
      "_________________________________________________________________\n",
      "time_distributed_3 (TimeDist (32, 16, 30, 30, 64)      18496     \n",
      "_________________________________________________________________\n",
      "time_distributed_4 (TimeDist (32, 16, 30, 30, 64)      256       \n",
      "_________________________________________________________________\n",
      "time_distributed_5 (TimeDist (32, 16, 15, 15, 64)      0         \n",
      "_________________________________________________________________\n",
      "time_distributed_6 (TimeDist (32, 16, 14400)           0         \n",
      "_________________________________________________________________\n",
      "gru_1 (GRU)                  (32, 16, 8)               345816    \n",
      "_________________________________________________________________\n",
      "flatten_2 (Flatten)          (32, 128)                 0         \n",
      "_________________________________________________________________\n",
      "dense_1 (Dense)              (32, 32)                  4128      \n",
      "_________________________________________________________________\n",
      "dense_2 (Dense)              (32, 5)                   165       \n",
      "=================================================================\n",
      "Total params: 369,885\n",
      "Trainable params: 369,693\n",
      "Non-trainable params: 192\n",
      "_________________________________________________________________\n"
     ]
    }
   ],
   "source": [
    "conv2d_model.build(batch_inp_shape)\n",
    "conv2d_model.summary()"
   ]
  },
  {
   "cell_type": "code",
   "execution_count": 10,
   "metadata": {
    "scrolled": true
   },
   "outputs": [],
   "source": [
    "optimiser = optimizers.Adam() #write your optimizer\n",
    "conv2d_model.compile(optimizer=optimiser, loss='categorical_crossentropy', metrics=['categorical_accuracy'])"
   ]
  },
  {
   "cell_type": "markdown",
   "metadata": {},
   "source": [
    "Let us create the `train_generator` and the `val_generator` which will be used in `.fit_generator`."
   ]
  },
  {
   "cell_type": "code",
   "execution_count": 11,
   "metadata": {},
   "outputs": [],
   "source": [
    "train_generator = generator(train_path, train_doc, batch_size)\n",
    "val_generator = generator(val_path, val_doc, batch_size)"
   ]
  },
  {
   "cell_type": "code",
   "execution_count": 12,
   "metadata": {},
   "outputs": [],
   "source": [
    "model_name = 'model_init' + '_' + str(curr_dt_time).replace(' ','').replace(':','_') + '/'\n",
    "    \n",
    "if not os.path.exists(model_name):\n",
    "    os.mkdir(model_name)\n",
    "        \n",
    "filepath = model_name + 'model-{epoch:05d}-{loss:.5f}-{categorical_accuracy:.5f}-{val_loss:.5f}-{val_categorical_accuracy:.5f}.h5'\n",
    "\n",
    "checkpoint = ModelCheckpoint(filepath, monitor='val_loss', verbose=1, save_best_only=False, save_weights_only=False, mode='auto', period=1)\n",
    "\n",
    "LR = ReduceLROnPlateau(monitor='val_loss', factor=0.5, patience=2, cooldown=1, verbose=1) # write the REducelronplateau code here\n",
    "callbacks_list = [checkpoint, LR]"
   ]
  },
  {
   "cell_type": "markdown",
   "metadata": {},
   "source": [
    "The `steps_per_epoch` and `validation_steps` are used by `fit_generator` to decide the number of next() calls it need to make."
   ]
  },
  {
   "cell_type": "code",
   "execution_count": 13,
   "metadata": {},
   "outputs": [],
   "source": [
    "if (num_train_sequences%batch_size) == 0:\n",
    "    steps_per_epoch = int(num_train_sequences/batch_size)\n",
    "else:\n",
    "    steps_per_epoch = (num_train_sequences//batch_size) + 1\n",
    "\n",
    "if (num_val_sequences%batch_size) == 0:\n",
    "    validation_steps = int(num_val_sequences/batch_size)\n",
    "else:\n",
    "    validation_steps = (num_val_sequences//batch_size) + 1"
   ]
  },
  {
   "cell_type": "markdown",
   "metadata": {},
   "source": [
    "Let us now fit the model. This will start training the model and with the help of the checkpoints, you'll be able to save the model at the end of each epoch."
   ]
  },
  {
   "cell_type": "code",
   "execution_count": 14,
   "metadata": {
    "scrolled": true
   },
   "outputs": [
    {
     "name": "stdout",
     "output_type": "stream",
     "text": [
      "Source path = Source path =  ./Project_data/train ; batch size = 32\n",
      "Epoch 1/50\n",
      " ./Project_data/val ; batch size = 32\n"
     ]
    },
    {
     "name": "stderr",
     "output_type": "stream",
     "text": [
      "/mnt/disks/user/anaconda3/lib/python3.6/site-packages/ipykernel_launcher.py:14: DeprecationWarning: `imread` is deprecated!\n",
      "`imread` is deprecated in SciPy 1.0.0, and will be removed in 1.2.0.\n",
      "Use ``imageio.imread`` instead.\n",
      "  \n",
      "/mnt/disks/user/anaconda3/lib/python3.6/site-packages/ipykernel_launcher.py:18: DeprecationWarning: `imresize` is deprecated!\n",
      "`imresize` is deprecated in SciPy 1.0.0, and will be removed in 1.2.0.\n",
      "Use ``skimage.transform.resize`` instead.\n"
     ]
    },
    {
     "name": "stdout",
     "output_type": "stream",
     "text": [
      " 3/21 [===>..........................] - ETA: 39s - loss: 1.6430 - categorical_accuracy: 0.2500 "
     ]
    },
    {
     "name": "stderr",
     "output_type": "stream",
     "text": [
      "/mnt/disks/user/anaconda3/lib/python3.6/site-packages/ipykernel_launcher.py:35: DeprecationWarning: `imread` is deprecated!\n",
      "`imread` is deprecated in SciPy 1.0.0, and will be removed in 1.2.0.\n",
      "Use ``imageio.imread`` instead.\n",
      "/mnt/disks/user/anaconda3/lib/python3.6/site-packages/ipykernel_launcher.py:39: DeprecationWarning: `imresize` is deprecated!\n",
      "`imresize` is deprecated in SciPy 1.0.0, and will be removed in 1.2.0.\n",
      "Use ``skimage.transform.resize`` instead.\n"
     ]
    },
    {
     "name": "stdout",
     "output_type": "stream",
     "text": [
      "21/21 [==============================] - 36s 2s/step - loss: 1.5825 - categorical_accuracy: 0.2738 - val_loss: 1.5075 - val_categorical_accuracy: 0.3906\n",
      "\n",
      "Epoch 00001: saving model to model_init_2020-05-2414_09_58.387065/model-00001-1.58254-0.27381-1.50746-0.39062.h5\n",
      "Epoch 2/50\n",
      "21/21 [==============================] - 31s 1s/step - loss: 1.3203 - categorical_accuracy: 0.4955 - val_loss: 1.3677 - val_categorical_accuracy: 0.4219\n",
      "\n",
      "Epoch 00002: saving model to model_init_2020-05-2414_09_58.387065/model-00002-1.32028-0.49554-1.36775-0.42188.h5\n",
      "Epoch 3/50\n",
      "21/21 [==============================] - 32s 2s/step - loss: 1.1500 - categorical_accuracy: 0.5372 - val_loss: 1.2705 - val_categorical_accuracy: 0.5156\n",
      "\n",
      "Epoch 00003: saving model to model_init_2020-05-2414_09_58.387065/model-00003-1.14998-0.53720-1.27053-0.51562.h5\n",
      "Epoch 4/50\n",
      "21/21 [==============================] - 32s 2s/step - loss: 0.8778 - categorical_accuracy: 0.6786 - val_loss: 1.1770 - val_categorical_accuracy: 0.5547\n",
      "\n",
      "Epoch 00004: saving model to model_init_2020-05-2414_09_58.387065/model-00004-0.87779-0.67857-1.17699-0.55469.h5\n",
      "Epoch 5/50\n",
      "21/21 [==============================] - 32s 2s/step - loss: 0.6415 - categorical_accuracy: 0.7812 - val_loss: 1.1746 - val_categorical_accuracy: 0.5312\n",
      "\n",
      "Epoch 00005: saving model to model_init_2020-05-2414_09_58.387065/model-00005-0.64153-0.78125-1.17461-0.53125.h5\n",
      "Epoch 6/50\n",
      "21/21 [==============================] - 32s 2s/step - loss: 0.4067 - categorical_accuracy: 0.8676 - val_loss: 1.2222 - val_categorical_accuracy: 0.5703\n",
      "\n",
      "Epoch 00006: saving model to model_init_2020-05-2414_09_58.387065/model-00006-0.40675-0.86756-1.22219-0.57031.h5\n",
      "Epoch 7/50\n",
      "21/21 [==============================] - 32s 2s/step - loss: 0.2662 - categorical_accuracy: 0.9256 - val_loss: 1.2021 - val_categorical_accuracy: 0.5781\n",
      "\n",
      "Epoch 00007: saving model to model_init_2020-05-2414_09_58.387065/model-00007-0.26617-0.92560-1.20208-0.57812.h5\n",
      "\n",
      "Epoch 00007: ReduceLROnPlateau reducing learning rate to 0.0005000000237487257.\n",
      "Epoch 8/50\n",
      "21/21 [==============================] - 32s 2s/step - loss: 0.1491 - categorical_accuracy: 0.9732 - val_loss: 1.1564 - val_categorical_accuracy: 0.6094\n",
      "\n",
      "Epoch 00008: saving model to model_init_2020-05-2414_09_58.387065/model-00008-0.14913-0.97321-1.15635-0.60938.h5\n",
      "Epoch 9/50\n",
      "21/21 [==============================] - 31s 1s/step - loss: 0.0831 - categorical_accuracy: 0.9911 - val_loss: 1.2907 - val_categorical_accuracy: 0.6094\n",
      "\n",
      "Epoch 00009: saving model to model_init_2020-05-2414_09_58.387065/model-00009-0.08307-0.99107-1.29074-0.60938.h5\n",
      "Epoch 10/50\n",
      "21/21 [==============================] - 32s 2s/step - loss: 0.0526 - categorical_accuracy: 0.9955 - val_loss: 1.1785 - val_categorical_accuracy: 0.6094\n",
      "\n",
      "Epoch 00010: saving model to model_init_2020-05-2414_09_58.387065/model-00010-0.05259-0.99554-1.17846-0.60938.h5\n",
      "\n",
      "Epoch 00010: ReduceLROnPlateau reducing learning rate to 0.0002500000118743628.\n",
      "Epoch 11/50\n",
      "21/21 [==============================] - 32s 2s/step - loss: 0.0334 - categorical_accuracy: 1.0000 - val_loss: 1.1740 - val_categorical_accuracy: 0.6016\n",
      "\n",
      "Epoch 00011: saving model to model_init_2020-05-2414_09_58.387065/model-00011-0.03342-1.00000-1.17401-0.60156.h5\n",
      "Epoch 12/50\n",
      "21/21 [==============================] - 32s 2s/step - loss: 0.0409 - categorical_accuracy: 0.9985 - val_loss: 1.2456 - val_categorical_accuracy: 0.6016\n",
      "\n",
      "Epoch 00012: saving model to model_init_2020-05-2414_09_58.387065/model-00012-0.04094-0.99851-1.24565-0.60156.h5\n",
      "\n",
      "Epoch 00012: ReduceLROnPlateau reducing learning rate to 0.0001250000059371814.\n",
      "Epoch 13/50\n",
      "21/21 [==============================] - 32s 2s/step - loss: 0.0248 - categorical_accuracy: 1.0000 - val_loss: 1.1986 - val_categorical_accuracy: 0.6094\n",
      "\n",
      "Epoch 00013: saving model to model_init_2020-05-2414_09_58.387065/model-00013-0.02479-1.00000-1.19863-0.60938.h5\n",
      "Epoch 14/50\n",
      "21/21 [==============================] - 32s 2s/step - loss: 0.0288 - categorical_accuracy: 1.0000 - val_loss: 1.3767 - val_categorical_accuracy: 0.5859\n",
      "\n",
      "Epoch 00014: saving model to model_init_2020-05-2414_09_58.387065/model-00014-0.02882-1.00000-1.37670-0.58594.h5\n",
      "\n",
      "Epoch 00014: ReduceLROnPlateau reducing learning rate to 6.25000029685907e-05.\n",
      "Epoch 15/50\n",
      "21/21 [==============================] - 32s 2s/step - loss: 0.0280 - categorical_accuracy: 0.9985 - val_loss: 1.2581 - val_categorical_accuracy: 0.6016\n",
      "\n",
      "Epoch 00015: saving model to model_init_2020-05-2414_09_58.387065/model-00015-0.02798-0.99851-1.25807-0.60156.h5\n",
      "Epoch 16/50\n",
      "21/21 [==============================] - 32s 2s/step - loss: 0.0292 - categorical_accuracy: 1.0000 - val_loss: 1.2373 - val_categorical_accuracy: 0.6406\n",
      "\n",
      "Epoch 00016: saving model to model_init_2020-05-2414_09_58.387065/model-00016-0.02922-1.00000-1.23726-0.64062.h5\n",
      "\n",
      "Epoch 00016: ReduceLROnPlateau reducing learning rate to 3.125000148429535e-05.\n",
      "Epoch 17/50\n",
      "21/21 [==============================] - 32s 2s/step - loss: 0.0296 - categorical_accuracy: 1.0000 - val_loss: 1.2513 - val_categorical_accuracy: 0.6172\n",
      "\n",
      "Epoch 00017: saving model to model_init_2020-05-2414_09_58.387065/model-00017-0.02960-1.00000-1.25126-0.61719.h5\n",
      "Epoch 18/50\n",
      "21/21 [==============================] - 32s 2s/step - loss: 0.0327 - categorical_accuracy: 1.0000 - val_loss: 1.4291 - val_categorical_accuracy: 0.5781\n",
      "\n",
      "Epoch 00018: saving model to model_init_2020-05-2414_09_58.387065/model-00018-0.03273-1.00000-1.42910-0.57812.h5\n",
      "\n",
      "Epoch 00018: ReduceLROnPlateau reducing learning rate to 1.5625000742147677e-05.\n",
      "Epoch 19/50\n",
      "21/21 [==============================] - 32s 2s/step - loss: 0.0200 - categorical_accuracy: 1.0000 - val_loss: 1.0978 - val_categorical_accuracy: 0.6328\n",
      "\n",
      "Epoch 00019: saving model to model_init_2020-05-2414_09_58.387065/model-00019-0.01997-1.00000-1.09785-0.63281.h5\n",
      "Epoch 20/50\n",
      "21/21 [==============================] - 31s 1s/step - loss: 0.0285 - categorical_accuracy: 0.9985 - val_loss: 1.2745 - val_categorical_accuracy: 0.6094\n",
      "\n",
      "Epoch 00020: saving model to model_init_2020-05-2414_09_58.387065/model-00020-0.02850-0.99851-1.27448-0.60938.h5\n",
      "Epoch 21/50\n",
      "21/21 [==============================] - 32s 2s/step - loss: 0.0197 - categorical_accuracy: 1.0000 - val_loss: 1.2054 - val_categorical_accuracy: 0.5938\n",
      "\n",
      "Epoch 00021: saving model to model_init_2020-05-2414_09_58.387065/model-00021-0.01974-1.00000-1.20540-0.59375.h5\n",
      "\n",
      "Epoch 00021: ReduceLROnPlateau reducing learning rate to 7.812500371073838e-06.\n",
      "Epoch 22/50\n",
      "21/21 [==============================] - 32s 2s/step - loss: 0.0346 - categorical_accuracy: 1.0000 - val_loss: 1.1751 - val_categorical_accuracy: 0.6016\n",
      "\n",
      "Epoch 00022: saving model to model_init_2020-05-2414_09_58.387065/model-00022-0.03456-1.00000-1.17508-0.60156.h5\n",
      "Epoch 23/50\n",
      "21/21 [==============================] - 32s 2s/step - loss: 0.0197 - categorical_accuracy: 1.0000 - val_loss: 1.1832 - val_categorical_accuracy: 0.6250\n",
      "\n",
      "Epoch 00023: saving model to model_init_2020-05-2414_09_58.387065/model-00023-0.01966-1.00000-1.18316-0.62500.h5\n",
      "\n",
      "Epoch 00023: ReduceLROnPlateau reducing learning rate to 3.906250185536919e-06.\n",
      "Epoch 24/50\n",
      "21/21 [==============================] - 32s 2s/step - loss: 0.0192 - categorical_accuracy: 1.0000 - val_loss: 1.3376 - val_categorical_accuracy: 0.5938\n",
      "\n",
      "Epoch 00024: saving model to model_init_2020-05-2414_09_58.387065/model-00024-0.01918-1.00000-1.33760-0.59375.h5\n",
      "Epoch 25/50\n",
      "21/21 [==============================] - 32s 2s/step - loss: 0.0287 - categorical_accuracy: 1.0000 - val_loss: 1.3410 - val_categorical_accuracy: 0.6016\n",
      "\n",
      "Epoch 00025: saving model to model_init_2020-05-2414_09_58.387065/model-00025-0.02866-1.00000-1.34099-0.60156.h5\n",
      "\n",
      "Epoch 00025: ReduceLROnPlateau reducing learning rate to 1.9531250927684596e-06.\n",
      "Epoch 26/50\n",
      "21/21 [==============================] - 32s 2s/step - loss: 0.0333 - categorical_accuracy: 0.9985 - val_loss: 1.4160 - val_categorical_accuracy: 0.6094\n",
      "\n",
      "Epoch 00026: saving model to model_init_2020-05-2414_09_58.387065/model-00026-0.03326-0.99851-1.41601-0.60938.h5\n",
      "Epoch 27/50\n",
      "21/21 [==============================] - 32s 2s/step - loss: 0.0319 - categorical_accuracy: 1.0000 - val_loss: 1.3050 - val_categorical_accuracy: 0.5938\n",
      "\n",
      "Epoch 00027: saving model to model_init_2020-05-2414_09_58.387065/model-00027-0.03188-1.00000-1.30503-0.59375.h5\n",
      "\n",
      "Epoch 00027: ReduceLROnPlateau reducing learning rate to 9.765625463842298e-07.\n",
      "Epoch 28/50\n"
     ]
    },
    {
     "name": "stdout",
     "output_type": "stream",
     "text": [
      "21/21 [==============================] - 32s 2s/step - loss: 0.0302 - categorical_accuracy: 0.9985 - val_loss: 1.3038 - val_categorical_accuracy: 0.5859\n",
      "\n",
      "Epoch 00028: saving model to model_init_2020-05-2414_09_58.387065/model-00028-0.03018-0.99851-1.30376-0.58594.h5\n",
      "Epoch 29/50\n",
      "21/21 [==============================] - 32s 2s/step - loss: 0.0329 - categorical_accuracy: 1.0000 - val_loss: 1.2697 - val_categorical_accuracy: 0.6172\n",
      "\n",
      "Epoch 00029: saving model to model_init_2020-05-2414_09_58.387065/model-00029-0.03286-1.00000-1.26972-0.61719.h5\n",
      "\n",
      "Epoch 00029: ReduceLROnPlateau reducing learning rate to 4.882812731921149e-07.\n",
      "Epoch 30/50\n",
      "21/21 [==============================] - 32s 2s/step - loss: 0.0198 - categorical_accuracy: 1.0000 - val_loss: 1.2195 - val_categorical_accuracy: 0.6094\n",
      "\n",
      "Epoch 00030: saving model to model_init_2020-05-2414_09_58.387065/model-00030-0.01985-1.00000-1.21954-0.60938.h5\n",
      "Epoch 31/50\n",
      "21/21 [==============================] - 32s 2s/step - loss: 0.0331 - categorical_accuracy: 0.9985 - val_loss: 1.2417 - val_categorical_accuracy: 0.6094\n",
      "\n",
      "Epoch 00031: saving model to model_init_2020-05-2414_09_58.387065/model-00031-0.03314-0.99851-1.24167-0.60938.h5\n",
      "\n",
      "Epoch 00031: ReduceLROnPlateau reducing learning rate to 2.4414063659605745e-07.\n",
      "Epoch 32/50\n",
      "21/21 [==============================] - 32s 2s/step - loss: 0.0320 - categorical_accuracy: 1.0000 - val_loss: 1.4528 - val_categorical_accuracy: 0.5859\n",
      "\n",
      "Epoch 00032: saving model to model_init_2020-05-2414_09_58.387065/model-00032-0.03200-1.00000-1.45284-0.58594.h5\n",
      "Epoch 33/50\n",
      "21/21 [==============================] - 32s 2s/step - loss: 0.0191 - categorical_accuracy: 1.0000 - val_loss: 1.3380 - val_categorical_accuracy: 0.5938\n",
      "\n",
      "Epoch 00033: saving model to model_init_2020-05-2414_09_58.387065/model-00033-0.01907-1.00000-1.33802-0.59375.h5\n",
      "\n",
      "Epoch 00033: ReduceLROnPlateau reducing learning rate to 1.2207031829802872e-07.\n",
      "Epoch 34/50\n",
      "21/21 [==============================] - 32s 2s/step - loss: 0.0319 - categorical_accuracy: 1.0000 - val_loss: 1.1479 - val_categorical_accuracy: 0.6250\n",
      "\n",
      "Epoch 00034: saving model to model_init_2020-05-2414_09_58.387065/model-00034-0.03189-1.00000-1.14787-0.62500.h5\n",
      "Epoch 35/50\n",
      "21/21 [==============================] - 32s 2s/step - loss: 0.0270 - categorical_accuracy: 0.9985 - val_loss: 1.3153 - val_categorical_accuracy: 0.6172\n",
      "\n",
      "Epoch 00035: saving model to model_init_2020-05-2414_09_58.387065/model-00035-0.02702-0.99851-1.31532-0.61719.h5\n",
      "\n",
      "Epoch 00035: ReduceLROnPlateau reducing learning rate to 6.103515914901436e-08.\n",
      "Epoch 36/50\n",
      "21/21 [==============================] - 32s 2s/step - loss: 0.0195 - categorical_accuracy: 1.0000 - val_loss: 1.3412 - val_categorical_accuracy: 0.6016\n",
      "\n",
      "Epoch 00036: saving model to model_init_2020-05-2414_09_58.387065/model-00036-0.01952-1.00000-1.34117-0.60156.h5\n",
      "Epoch 37/50\n",
      "21/21 [==============================] - 32s 2s/step - loss: 0.0346 - categorical_accuracy: 1.0000 - val_loss: 1.1398 - val_categorical_accuracy: 0.6172\n",
      "\n",
      "Epoch 00037: saving model to model_init_2020-05-2414_09_58.387065/model-00037-0.03459-1.00000-1.13982-0.61719.h5\n",
      "\n",
      "Epoch 00037: ReduceLROnPlateau reducing learning rate to 3.051757957450718e-08.\n",
      "Epoch 38/50\n",
      "21/21 [==============================] - 32s 2s/step - loss: 0.0195 - categorical_accuracy: 1.0000 - val_loss: 1.3923 - val_categorical_accuracy: 0.5781\n",
      "\n",
      "Epoch 00038: saving model to model_init_2020-05-2414_09_58.387065/model-00038-0.01949-1.00000-1.39230-0.57812.h5\n",
      "Epoch 39/50\n",
      "21/21 [==============================] - 32s 2s/step - loss: 0.0301 - categorical_accuracy: 0.9985 - val_loss: 1.2812 - val_categorical_accuracy: 0.6016\n",
      "\n",
      "Epoch 00039: saving model to model_init_2020-05-2414_09_58.387065/model-00039-0.03007-0.99851-1.28123-0.60156.h5\n",
      "\n",
      "Epoch 00039: ReduceLROnPlateau reducing learning rate to 1.525878978725359e-08.\n",
      "Epoch 40/50\n",
      "21/21 [==============================] - 32s 2s/step - loss: 0.0183 - categorical_accuracy: 1.0000 - val_loss: 1.3463 - val_categorical_accuracy: 0.6016\n",
      "\n",
      "Epoch 00040: saving model to model_init_2020-05-2414_09_58.387065/model-00040-0.01826-1.00000-1.34629-0.60156.h5\n",
      "Epoch 41/50\n",
      "21/21 [==============================] - 32s 2s/step - loss: 0.0299 - categorical_accuracy: 1.0000 - val_loss: 1.2557 - val_categorical_accuracy: 0.6016\n",
      "\n",
      "Epoch 00041: saving model to model_init_2020-05-2414_09_58.387065/model-00041-0.02994-1.00000-1.25574-0.60156.h5\n",
      "\n",
      "Epoch 00041: ReduceLROnPlateau reducing learning rate to 7.629394893626795e-09.\n",
      "Epoch 42/50\n",
      "21/21 [==============================] - 32s 2s/step - loss: 0.0424 - categorical_accuracy: 0.9970 - val_loss: 1.1307 - val_categorical_accuracy: 0.6328\n",
      "\n",
      "Epoch 00042: saving model to model_init_2020-05-2414_09_58.387065/model-00042-0.04237-0.99702-1.13069-0.63281.h5\n",
      "Epoch 43/50\n",
      "21/21 [==============================] - 32s 2s/step - loss: 0.0344 - categorical_accuracy: 0.9985 - val_loss: 1.3243 - val_categorical_accuracy: 0.5938\n",
      "\n",
      "Epoch 00043: saving model to model_init_2020-05-2414_09_58.387065/model-00043-0.03441-0.99851-1.32430-0.59375.h5\n",
      "\n",
      "Epoch 00043: ReduceLROnPlateau reducing learning rate to 3.814697446813398e-09.\n",
      "Epoch 44/50\n",
      "21/21 [==============================] - 32s 2s/step - loss: 0.0281 - categorical_accuracy: 1.0000 - val_loss: 1.2180 - val_categorical_accuracy: 0.6016\n",
      "\n",
      "Epoch 00044: saving model to model_init_2020-05-2414_09_58.387065/model-00044-0.02813-1.00000-1.21801-0.60156.h5\n",
      "Epoch 45/50\n",
      "21/21 [==============================] - 32s 2s/step - loss: 0.0275 - categorical_accuracy: 1.0000 - val_loss: 1.2105 - val_categorical_accuracy: 0.5859\n",
      "\n",
      "Epoch 00045: saving model to model_init_2020-05-2414_09_58.387065/model-00045-0.02749-1.00000-1.21053-0.58594.h5\n",
      "\n",
      "Epoch 00045: ReduceLROnPlateau reducing learning rate to 1.907348723406699e-09.\n",
      "Epoch 46/50\n",
      "21/21 [==============================] - 32s 2s/step - loss: 0.0193 - categorical_accuracy: 1.0000 - val_loss: 1.4904 - val_categorical_accuracy: 0.5703\n",
      "\n",
      "Epoch 00046: saving model to model_init_2020-05-2414_09_58.387065/model-00046-0.01925-1.00000-1.49043-0.57031.h5\n",
      "Epoch 47/50\n",
      "21/21 [==============================] - 32s 2s/step - loss: 0.0355 - categorical_accuracy: 0.9985 - val_loss: 1.3011 - val_categorical_accuracy: 0.6016\n",
      "\n",
      "Epoch 00047: saving model to model_init_2020-05-2414_09_58.387065/model-00047-0.03551-0.99851-1.30112-0.60156.h5\n",
      "\n",
      "Epoch 00047: ReduceLROnPlateau reducing learning rate to 9.536743617033494e-10.\n",
      "Epoch 48/50\n",
      "21/21 [==============================] - 32s 2s/step - loss: 0.0220 - categorical_accuracy: 1.0000 - val_loss: 1.2345 - val_categorical_accuracy: 0.6172\n",
      "\n",
      "Epoch 00048: saving model to model_init_2020-05-2414_09_58.387065/model-00048-0.02205-1.00000-1.23454-0.61719.h5\n",
      "Epoch 49/50\n",
      "21/21 [==============================] - 32s 2s/step - loss: 0.0193 - categorical_accuracy: 1.0000 - val_loss: 1.2889 - val_categorical_accuracy: 0.5781\n",
      "\n",
      "Epoch 00049: saving model to model_init_2020-05-2414_09_58.387065/model-00049-0.01925-1.00000-1.28887-0.57812.h5\n",
      "\n",
      "Epoch 00049: ReduceLROnPlateau reducing learning rate to 4.768371808516747e-10.\n",
      "Epoch 50/50\n",
      "21/21 [==============================] - 32s 2s/step - loss: 0.0195 - categorical_accuracy: 1.0000 - val_loss: 1.3401 - val_categorical_accuracy: 0.5781\n",
      "\n",
      "Epoch 00050: saving model to model_init_2020-05-2414_09_58.387065/model-00050-0.01950-1.00000-1.34008-0.57812.h5\n"
     ]
    },
    {
     "data": {
      "text/plain": [
       "<keras.callbacks.History at 0x7f631e67ed68>"
      ]
     },
     "execution_count": 14,
     "metadata": {},
     "output_type": "execute_result"
    }
   ],
   "source": [
    "conv2d_model.fit_generator(train_generator, steps_per_epoch=steps_per_epoch, epochs=num_epochs, verbose=1, \n",
    "                    callbacks=callbacks_list, validation_data=val_generator, \n",
    "                    validation_steps=validation_steps, class_weight=None, workers=1, initial_epoch=0)"
   ]
  },
  {
   "cell_type": "code",
   "execution_count": 15,
   "metadata": {
    "scrolled": true
   },
   "outputs": [
    {
     "name": "stdout",
     "output_type": "stream",
     "text": [
      "_________________________________________________________________\n",
      "Layer (type)                 Output Shape              Param #   \n",
      "=================================================================\n",
      "time_distributed_1 (TimeDist (32, 16, 32, 32, 32)      896       \n",
      "_________________________________________________________________\n",
      "time_distributed_2 (TimeDist (32, 16, 32, 32, 32)      128       \n",
      "_________________________________________________________________\n",
      "time_distributed_3 (TimeDist (32, 16, 30, 30, 64)      18496     \n",
      "_________________________________________________________________\n",
      "time_distributed_4 (TimeDist (32, 16, 30, 30, 64)      256       \n",
      "_________________________________________________________________\n",
      "time_distributed_5 (TimeDist (32, 16, 15, 15, 64)      0         \n",
      "_________________________________________________________________\n",
      "time_distributed_6 (TimeDist (32, 16, 14400)           0         \n",
      "_________________________________________________________________\n",
      "gru_1 (GRU)                  (32, 16, 8)               345816    \n",
      "_________________________________________________________________\n",
      "flatten_2 (Flatten)          (32, 128)                 0         \n",
      "_________________________________________________________________\n",
      "dense_1 (Dense)              (32, 32)                  4128      \n",
      "_________________________________________________________________\n",
      "dense_2 (Dense)              (32, 5)                   165       \n",
      "=================================================================\n",
      "Total params: 369,885\n",
      "Trainable params: 369,693\n",
      "Non-trainable params: 192\n",
      "_________________________________________________________________\n"
     ]
    }
   ],
   "source": [
    "conv2d_model.summary()"
   ]
  },
  {
   "cell_type": "code",
   "execution_count": null,
   "metadata": {},
   "outputs": [],
   "source": [
    "import maptplotlib.pyplot as plt\n",
    "loss_train = conv2d_model.history['acc']\n",
    "loss_val = conv2d_model.history['val_acc']\n",
    "epochs = range(1,51)\n",
    "plt.plot(epochs, loss_train, 'g', label='Training accuracy')\n",
    "plt.plot(epochs, loss_val, 'b', label='validation accuracy')\n",
    "plt.title('Training and Validation accuracy')\n",
    "plt.xlabel('Epochs')\n",
    "plt.ylabel('Accuracy')\n",
    "plt.legend()\n",
    "plt.show()"
   ]
  },
  {
   "cell_type": "markdown",
   "metadata": {},
   "source": [
    "# CONV3D"
   ]
  },
  {
   "cell_type": "code",
   "execution_count": 20,
   "metadata": {},
   "outputs": [],
   "source": [
    "from keras.models import Sequential, Model\n",
    "from keras.layers import Dense, GRU, Flatten, TimeDistributed, Flatten, BatchNormalization, Activation\n",
    "from keras.layers.convolutional import Conv3D, MaxPooling3D\n",
    "from keras.callbacks import ModelCheckpoint, ReduceLROnPlateau\n",
    "from keras import optimizers\n",
    "from keras.layers import Dropout\n",
    "\n",
    "#write your model here\n",
    "#covolution layers\n",
    "conv3d_model = Sequential()\n",
    "conv3d_model.add(Conv3D(32,kernel_size=(3,3,3),activation='relu',batch_input_shape=batch_inp_shape))\n",
    "conv3d_model.add(Conv3D(64,kernel_size=(3,3,3),activation='relu'))\n",
    "conv3d_model.add(MaxPooling3D(pool_size=(2,2,2)))\n",
    "conv3d_model.add(Conv3D(128,kernel_size=(3,3,3),kernel_regularizer='l2',activation='relu'))\n",
    "conv3d_model.add(MaxPooling3D(pool_size=(2,2,2)))\n",
    "conv2d_model.add(BatchNormalization())\n",
    "#conv3d_model.add(Dropout(0.25))\n",
    "\n",
    "# extract features\n",
    "conv3d_model.add(Flatten())\n",
    "#conv3d_model.add(BatchNormalization())\n",
    "conv3d_model.add(Dense(128,activation='relu'))\n",
    "conv3d_model.add(Dropout(0.5))\n",
    "conv3d_model.add(Dense(Num_Classes,activation='softmax'))"
   ]
  },
  {
   "cell_type": "code",
   "execution_count": 21,
   "metadata": {},
   "outputs": [
    {
     "name": "stdout",
     "output_type": "stream",
     "text": [
      "_________________________________________________________________\n",
      "Layer (type)                 Output Shape              Param #   \n",
      "=================================================================\n",
      "conv3d_3 (Conv3D)            (32, 14, 30, 30, 32)      2624      \n",
      "_________________________________________________________________\n",
      "conv3d_4 (Conv3D)            (32, 12, 28, 28, 64)      55360     \n",
      "_________________________________________________________________\n",
      "max_pooling3d_2 (MaxPooling3 (32, 6, 14, 14, 64)       0         \n",
      "_________________________________________________________________\n",
      "conv3d_5 (Conv3D)            (32, 4, 12, 12, 128)      221312    \n",
      "_________________________________________________________________\n",
      "max_pooling3d_3 (MaxPooling3 (32, 2, 6, 6, 128)        0         \n",
      "_________________________________________________________________\n",
      "flatten_4 (Flatten)          (32, 9216)                0         \n",
      "_________________________________________________________________\n",
      "dense_5 (Dense)              (32, 128)                 1179776   \n",
      "_________________________________________________________________\n",
      "dropout_1 (Dropout)          (32, 128)                 0         \n",
      "_________________________________________________________________\n",
      "dense_6 (Dense)              (32, 5)                   645       \n",
      "=================================================================\n",
      "Total params: 1,459,717\n",
      "Trainable params: 1,459,717\n",
      "Non-trainable params: 0\n",
      "_________________________________________________________________\n"
     ]
    }
   ],
   "source": [
    "conv3d_model.build(batch_inp_shape)\n",
    "conv3d_model.summary()"
   ]
  },
  {
   "cell_type": "code",
   "execution_count": 22,
   "metadata": {},
   "outputs": [],
   "source": [
    "optimiser = optimizers.Adam() #write your optimizer\n",
    "conv3d_model.compile(optimizer=optimiser, loss='categorical_crossentropy', metrics=['categorical_accuracy'])\n",
    "#print (conv3d_model.summary())"
   ]
  },
  {
   "cell_type": "code",
   "execution_count": 23,
   "metadata": {},
   "outputs": [
    {
     "name": "stdout",
     "output_type": "stream",
     "text": [
      "Epoch 1/50\n"
     ]
    },
    {
     "name": "stderr",
     "output_type": "stream",
     "text": [
      "/mnt/disks/user/anaconda3/lib/python3.6/site-packages/ipykernel_launcher.py:14: DeprecationWarning: `imread` is deprecated!\n",
      "`imread` is deprecated in SciPy 1.0.0, and will be removed in 1.2.0.\n",
      "Use ``imageio.imread`` instead.\n",
      "  \n",
      "/mnt/disks/user/anaconda3/lib/python3.6/site-packages/ipykernel_launcher.py:18: DeprecationWarning: `imresize` is deprecated!\n",
      "`imresize` is deprecated in SciPy 1.0.0, and will be removed in 1.2.0.\n",
      "Use ``skimage.transform.resize`` instead.\n"
     ]
    },
    {
     "name": "stdout",
     "output_type": "stream",
     "text": [
      " 2/21 [=>............................] - ETA: 37s - loss: 2.4368 - categorical_accuracy: 0.2188 "
     ]
    },
    {
     "name": "stderr",
     "output_type": "stream",
     "text": [
      "/mnt/disks/user/anaconda3/lib/python3.6/site-packages/ipykernel_launcher.py:35: DeprecationWarning: `imread` is deprecated!\n",
      "`imread` is deprecated in SciPy 1.0.0, and will be removed in 1.2.0.\n",
      "Use ``imageio.imread`` instead.\n",
      "/mnt/disks/user/anaconda3/lib/python3.6/site-packages/ipykernel_launcher.py:39: DeprecationWarning: `imresize` is deprecated!\n",
      "`imresize` is deprecated in SciPy 1.0.0, and will be removed in 1.2.0.\n",
      "Use ``skimage.transform.resize`` instead.\n"
     ]
    },
    {
     "name": "stdout",
     "output_type": "stream",
     "text": [
      "21/21 [==============================] - 33s 2s/step - loss: 2.1268 - categorical_accuracy: 0.2292 - val_loss: 1.8671 - val_categorical_accuracy: 0.2656\n",
      "\n",
      "Epoch 00001: saving model to model_init_2020-05-2414_09_58.387065/model-00001-2.12682-0.22917-1.86705-0.26562.h5\n",
      "Epoch 2/50\n",
      "21/21 [==============================] - 31s 1s/step - loss: 1.6956 - categorical_accuracy: 0.2649 - val_loss: 1.5443 - val_categorical_accuracy: 0.3672\n",
      "\n",
      "Epoch 00002: saving model to model_init_2020-05-2414_09_58.387065/model-00002-1.69564-0.26488-1.54426-0.36719.h5\n",
      "Epoch 3/50\n",
      "21/21 [==============================] - 31s 1s/step - loss: 1.5181 - categorical_accuracy: 0.3512 - val_loss: 1.3897 - val_categorical_accuracy: 0.4531\n",
      "\n",
      "Epoch 00003: saving model to model_init_2020-05-2414_09_58.387065/model-00003-1.51808-0.35119-1.38968-0.45312.h5\n",
      "Epoch 4/50\n",
      "21/21 [==============================] - 31s 1s/step - loss: 1.3175 - categorical_accuracy: 0.4658 - val_loss: 1.4533 - val_categorical_accuracy: 0.4219\n",
      "\n",
      "Epoch 00004: saving model to model_init_2020-05-2414_09_58.387065/model-00004-1.31754-0.46577-1.45333-0.42188.h5\n",
      "Epoch 5/50\n",
      "21/21 [==============================] - 31s 1s/step - loss: 1.1498 - categorical_accuracy: 0.5342 - val_loss: 1.1062 - val_categorical_accuracy: 0.6172\n",
      "\n",
      "Epoch 00005: saving model to model_init_2020-05-2414_09_58.387065/model-00005-1.14984-0.53423-1.10622-0.61719.h5\n",
      "Epoch 6/50\n",
      "21/21 [==============================] - 31s 1s/step - loss: 1.0485 - categorical_accuracy: 0.5997 - val_loss: 1.1959 - val_categorical_accuracy: 0.6562\n",
      "\n",
      "Epoch 00006: saving model to model_init_2020-05-2414_09_58.387065/model-00006-1.04847-0.59970-1.19591-0.65625.h5\n",
      "Epoch 7/50\n",
      "21/21 [==============================] - 31s 1s/step - loss: 0.9530 - categorical_accuracy: 0.6429 - val_loss: 1.1084 - val_categorical_accuracy: 0.5469\n",
      "\n",
      "Epoch 00007: saving model to model_init_2020-05-2414_09_58.387065/model-00007-0.95302-0.64286-1.10845-0.54688.h5\n",
      "\n",
      "Epoch 00007: ReduceLROnPlateau reducing learning rate to 0.0005000000237487257.\n",
      "Epoch 8/50\n",
      "21/21 [==============================] - 30s 1s/step - loss: 0.8214 - categorical_accuracy: 0.6875 - val_loss: 1.3111 - val_categorical_accuracy: 0.6016\n",
      "\n",
      "Epoch 00008: saving model to model_init_2020-05-2414_09_58.387065/model-00008-0.82140-0.68750-1.31115-0.60156.h5\n",
      "Epoch 9/50\n",
      "21/21 [==============================] - 31s 1s/step - loss: 0.7604 - categorical_accuracy: 0.7232 - val_loss: 0.9228 - val_categorical_accuracy: 0.6641\n",
      "\n",
      "Epoch 00009: saving model to model_init_2020-05-2414_09_58.387065/model-00009-0.76038-0.72321-0.92277-0.66406.h5\n",
      "Epoch 10/50\n",
      "21/21 [==============================] - 30s 1s/step - loss: 0.7106 - categorical_accuracy: 0.7470 - val_loss: 0.9451 - val_categorical_accuracy: 0.6953\n",
      "\n",
      "Epoch 00010: saving model to model_init_2020-05-2414_09_58.387065/model-00010-0.71057-0.74702-0.94508-0.69531.h5\n",
      "Epoch 11/50\n",
      "21/21 [==============================] - 31s 1s/step - loss: 0.6581 - categorical_accuracy: 0.7351 - val_loss: 1.0303 - val_categorical_accuracy: 0.6953\n",
      "\n",
      "Epoch 00011: saving model to model_init_2020-05-2414_09_58.387065/model-00011-0.65815-0.73512-1.03031-0.69531.h5\n",
      "\n",
      "Epoch 00011: ReduceLROnPlateau reducing learning rate to 0.0002500000118743628.\n",
      "Epoch 12/50\n",
      "21/21 [==============================] - 31s 1s/step - loss: 0.5556 - categorical_accuracy: 0.8155 - val_loss: 1.0430 - val_categorical_accuracy: 0.6875\n",
      "\n",
      "Epoch 00012: saving model to model_init_2020-05-2414_09_58.387065/model-00012-0.55558-0.81548-1.04296-0.68750.h5\n",
      "Epoch 13/50\n",
      "21/21 [==============================] - 31s 1s/step - loss: 0.5819 - categorical_accuracy: 0.7783 - val_loss: 0.8725 - val_categorical_accuracy: 0.7656\n",
      "\n",
      "Epoch 00013: saving model to model_init_2020-05-2414_09_58.387065/model-00013-0.58188-0.77827-0.87251-0.76562.h5\n",
      "Epoch 14/50\n",
      "21/21 [==============================] - 31s 1s/step - loss: 0.5318 - categorical_accuracy: 0.8140 - val_loss: 0.9012 - val_categorical_accuracy: 0.7656\n",
      "\n",
      "Epoch 00014: saving model to model_init_2020-05-2414_09_58.387065/model-00014-0.53184-0.81399-0.90117-0.76562.h5\n",
      "Epoch 15/50\n",
      "21/21 [==============================] - 31s 1s/step - loss: 0.5544 - categorical_accuracy: 0.8051 - val_loss: 1.0033 - val_categorical_accuracy: 0.7188\n",
      "\n",
      "Epoch 00015: saving model to model_init_2020-05-2414_09_58.387065/model-00015-0.55444-0.80506-1.00326-0.71875.h5\n",
      "\n",
      "Epoch 00015: ReduceLROnPlateau reducing learning rate to 0.0001250000059371814.\n",
      "Epoch 16/50\n",
      "21/21 [==============================] - 32s 2s/step - loss: 0.4533 - categorical_accuracy: 0.8482 - val_loss: 0.9191 - val_categorical_accuracy: 0.7344\n",
      "\n",
      "Epoch 00016: saving model to model_init_2020-05-2414_09_58.387065/model-00016-0.45332-0.84821-0.91907-0.73438.h5\n",
      "Epoch 17/50\n",
      "21/21 [==============================] - 30s 1s/step - loss: 0.4806 - categorical_accuracy: 0.8244 - val_loss: 0.9364 - val_categorical_accuracy: 0.7188\n",
      "\n",
      "Epoch 00017: saving model to model_init_2020-05-2414_09_58.387065/model-00017-0.48062-0.82440-0.93645-0.71875.h5\n",
      "\n",
      "Epoch 00017: ReduceLROnPlateau reducing learning rate to 6.25000029685907e-05.\n",
      "Epoch 18/50\n",
      "21/21 [==============================] - 32s 2s/step - loss: 0.4691 - categorical_accuracy: 0.8438 - val_loss: 0.9003 - val_categorical_accuracy: 0.7031\n",
      "\n",
      "Epoch 00018: saving model to model_init_2020-05-2414_09_58.387065/model-00018-0.46910-0.84375-0.90030-0.70312.h5\n",
      "Epoch 19/50\n",
      "21/21 [==============================] - 30s 1s/step - loss: 0.4523 - categorical_accuracy: 0.8363 - val_loss: 0.9327 - val_categorical_accuracy: 0.6953\n",
      "\n",
      "Epoch 00019: saving model to model_init_2020-05-2414_09_58.387065/model-00019-0.45228-0.83631-0.93273-0.69531.h5\n",
      "\n",
      "Epoch 00019: ReduceLROnPlateau reducing learning rate to 3.125000148429535e-05.\n",
      "Epoch 20/50\n",
      "21/21 [==============================] - 32s 2s/step - loss: 0.4300 - categorical_accuracy: 0.8616 - val_loss: 1.0420 - val_categorical_accuracy: 0.7344\n",
      "\n",
      "Epoch 00020: saving model to model_init_2020-05-2414_09_58.387065/model-00020-0.43004-0.86161-1.04203-0.73438.h5\n",
      "Epoch 21/50\n",
      "21/21 [==============================] - 31s 1s/step - loss: 0.4160 - categorical_accuracy: 0.8705 - val_loss: 0.9391 - val_categorical_accuracy: 0.7266\n",
      "\n",
      "Epoch 00021: saving model to model_init_2020-05-2414_09_58.387065/model-00021-0.41602-0.87054-0.93914-0.72656.h5\n",
      "\n",
      "Epoch 00021: ReduceLROnPlateau reducing learning rate to 1.5625000742147677e-05.\n",
      "Epoch 22/50\n",
      "21/21 [==============================] - 31s 1s/step - loss: 0.4271 - categorical_accuracy: 0.8616 - val_loss: 1.0077 - val_categorical_accuracy: 0.7266\n",
      "\n",
      "Epoch 00022: saving model to model_init_2020-05-2414_09_58.387065/model-00022-0.42708-0.86161-1.00771-0.72656.h5\n",
      "Epoch 23/50\n",
      "21/21 [==============================] - 31s 1s/step - loss: 0.4284 - categorical_accuracy: 0.8661 - val_loss: 0.9370 - val_categorical_accuracy: 0.6719\n",
      "\n",
      "Epoch 00023: saving model to model_init_2020-05-2414_09_58.387065/model-00023-0.42839-0.86607-0.93705-0.67188.h5\n",
      "\n",
      "Epoch 00023: ReduceLROnPlateau reducing learning rate to 7.812500371073838e-06.\n",
      "Epoch 24/50\n",
      "21/21 [==============================] - 31s 1s/step - loss: 0.4647 - categorical_accuracy: 0.8527 - val_loss: 1.0003 - val_categorical_accuracy: 0.7578\n",
      "\n",
      "Epoch 00024: saving model to model_init_2020-05-2414_09_58.387065/model-00024-0.46474-0.85268-1.00031-0.75781.h5\n",
      "Epoch 25/50\n",
      "21/21 [==============================] - 30s 1s/step - loss: 0.4189 - categorical_accuracy: 0.8467 - val_loss: 0.8921 - val_categorical_accuracy: 0.7188\n",
      "\n",
      "Epoch 00025: saving model to model_init_2020-05-2414_09_58.387065/model-00025-0.41891-0.84673-0.89215-0.71875.h5\n",
      "\n",
      "Epoch 00025: ReduceLROnPlateau reducing learning rate to 3.906250185536919e-06.\n",
      "Epoch 26/50\n",
      "21/21 [==============================] - 31s 1s/step - loss: 0.4024 - categorical_accuracy: 0.8646 - val_loss: 1.0373 - val_categorical_accuracy: 0.6641\n",
      "\n",
      "Epoch 00026: saving model to model_init_2020-05-2414_09_58.387065/model-00026-0.40241-0.86458-1.03734-0.66406.h5\n",
      "Epoch 27/50\n",
      "21/21 [==============================] - 31s 1s/step - loss: 0.4295 - categorical_accuracy: 0.8646 - val_loss: 1.0070 - val_categorical_accuracy: 0.7422\n",
      "\n",
      "Epoch 00027: saving model to model_init_2020-05-2414_09_58.387065/model-00027-0.42949-0.86458-1.00704-0.74219.h5\n",
      "\n",
      "Epoch 00027: ReduceLROnPlateau reducing learning rate to 1.9531250927684596e-06.\n",
      "Epoch 28/50\n"
     ]
    },
    {
     "name": "stdout",
     "output_type": "stream",
     "text": [
      "21/21 [==============================] - 31s 1s/step - loss: 0.4365 - categorical_accuracy: 0.8571 - val_loss: 0.8183 - val_categorical_accuracy: 0.7500\n",
      "\n",
      "Epoch 00028: saving model to model_init_2020-05-2414_09_58.387065/model-00028-0.43650-0.85714-0.81831-0.75000.h5\n",
      "Epoch 29/50\n",
      "21/21 [==============================] - 31s 1s/step - loss: 0.4367 - categorical_accuracy: 0.8542 - val_loss: 0.6590 - val_categorical_accuracy: 0.7500\n",
      "\n",
      "Epoch 00029: saving model to model_init_2020-05-2414_09_58.387065/model-00029-0.43674-0.85417-0.65903-0.75000.h5\n",
      "Epoch 30/50\n",
      "21/21 [==============================] - 29s 1s/step - loss: 0.4219 - categorical_accuracy: 0.8646 - val_loss: 0.9859 - val_categorical_accuracy: 0.7266\n",
      "\n",
      "Epoch 00030: saving model to model_init_2020-05-2414_09_58.387065/model-00030-0.42193-0.86458-0.98589-0.72656.h5\n",
      "Epoch 31/50\n",
      "21/21 [==============================] - 32s 2s/step - loss: 0.4262 - categorical_accuracy: 0.8616 - val_loss: 0.7282 - val_categorical_accuracy: 0.7812\n",
      "\n",
      "Epoch 00031: saving model to model_init_2020-05-2414_09_58.387065/model-00031-0.42620-0.86161-0.72820-0.78125.h5\n",
      "\n",
      "Epoch 00031: ReduceLROnPlateau reducing learning rate to 9.765625463842298e-07.\n",
      "Epoch 32/50\n",
      "21/21 [==============================] - 29s 1s/step - loss: 0.4068 - categorical_accuracy: 0.8676 - val_loss: 1.1042 - val_categorical_accuracy: 0.6953\n",
      "\n",
      "Epoch 00032: saving model to model_init_2020-05-2414_09_58.387065/model-00032-0.40676-0.86756-1.10416-0.69531.h5\n",
      "Epoch 33/50\n",
      "21/21 [==============================] - 31s 1s/step - loss: 0.4133 - categorical_accuracy: 0.8616 - val_loss: 0.8115 - val_categorical_accuracy: 0.7578\n",
      "\n",
      "Epoch 00033: saving model to model_init_2020-05-2414_09_58.387065/model-00033-0.41325-0.86161-0.81148-0.75781.h5\n",
      "\n",
      "Epoch 00033: ReduceLROnPlateau reducing learning rate to 4.882812731921149e-07.\n",
      "Epoch 34/50\n",
      "21/21 [==============================] - 29s 1s/step - loss: 0.4119 - categorical_accuracy: 0.8571 - val_loss: 0.9238 - val_categorical_accuracy: 0.7422\n",
      "\n",
      "Epoch 00034: saving model to model_init_2020-05-2414_09_58.387065/model-00034-0.41193-0.85714-0.92379-0.74219.h5\n",
      "Epoch 35/50\n",
      "21/21 [==============================] - 30s 1s/step - loss: 0.4316 - categorical_accuracy: 0.8571 - val_loss: 0.9293 - val_categorical_accuracy: 0.6953\n",
      "\n",
      "Epoch 00035: saving model to model_init_2020-05-2414_09_58.387065/model-00035-0.43165-0.85714-0.92929-0.69531.h5\n",
      "\n",
      "Epoch 00035: ReduceLROnPlateau reducing learning rate to 2.4414063659605745e-07.\n",
      "Epoch 36/50\n",
      "21/21 [==============================] - 31s 1s/step - loss: 0.4145 - categorical_accuracy: 0.8631 - val_loss: 1.1028 - val_categorical_accuracy: 0.7344\n",
      "\n",
      "Epoch 00036: saving model to model_init_2020-05-2414_09_58.387065/model-00036-0.41448-0.86310-1.10283-0.73438.h5\n",
      "Epoch 37/50\n",
      "21/21 [==============================] - 30s 1s/step - loss: 0.4419 - categorical_accuracy: 0.8333 - val_loss: 0.8263 - val_categorical_accuracy: 0.7656\n",
      "\n",
      "Epoch 00037: saving model to model_init_2020-05-2414_09_58.387065/model-00037-0.44189-0.83333-0.82631-0.76562.h5\n",
      "\n",
      "Epoch 00037: ReduceLROnPlateau reducing learning rate to 1.2207031829802872e-07.\n",
      "Epoch 38/50\n",
      "21/21 [==============================] - 30s 1s/step - loss: 0.3708 - categorical_accuracy: 0.8824 - val_loss: 0.8419 - val_categorical_accuracy: 0.7344\n",
      "\n",
      "Epoch 00038: saving model to model_init_2020-05-2414_09_58.387065/model-00038-0.37082-0.88244-0.84191-0.73438.h5\n",
      "Epoch 39/50\n",
      "21/21 [==============================] - 30s 1s/step - loss: 0.3947 - categorical_accuracy: 0.8661 - val_loss: 1.0872 - val_categorical_accuracy: 0.7266\n",
      "\n",
      "Epoch 00039: saving model to model_init_2020-05-2414_09_58.387065/model-00039-0.39468-0.86607-1.08721-0.72656.h5\n",
      "\n",
      "Epoch 00039: ReduceLROnPlateau reducing learning rate to 6.103515914901436e-08.\n",
      "Epoch 40/50\n",
      "21/21 [==============================] - 31s 1s/step - loss: 0.4488 - categorical_accuracy: 0.8557 - val_loss: 0.9318 - val_categorical_accuracy: 0.7266\n",
      "\n",
      "Epoch 00040: saving model to model_init_2020-05-2414_09_58.387065/model-00040-0.44879-0.85565-0.93180-0.72656.h5\n",
      "Epoch 41/50\n",
      "21/21 [==============================] - 31s 1s/step - loss: 0.4096 - categorical_accuracy: 0.8690 - val_loss: 0.8294 - val_categorical_accuracy: 0.7578\n",
      "\n",
      "Epoch 00041: saving model to model_init_2020-05-2414_09_58.387065/model-00041-0.40964-0.86905-0.82940-0.75781.h5\n",
      "\n",
      "Epoch 00041: ReduceLROnPlateau reducing learning rate to 3.051757957450718e-08.\n",
      "Epoch 42/50\n",
      "21/21 [==============================] - 31s 1s/step - loss: 0.3960 - categorical_accuracy: 0.8750 - val_loss: 0.9855 - val_categorical_accuracy: 0.7031\n",
      "\n",
      "Epoch 00042: saving model to model_init_2020-05-2414_09_58.387065/model-00042-0.39596-0.87500-0.98549-0.70312.h5\n",
      "Epoch 43/50\n",
      "21/21 [==============================] - 31s 1s/step - loss: 0.4235 - categorical_accuracy: 0.8646 - val_loss: 0.8551 - val_categorical_accuracy: 0.7656\n",
      "\n",
      "Epoch 00043: saving model to model_init_2020-05-2414_09_58.387065/model-00043-0.42346-0.86458-0.85506-0.76562.h5\n",
      "\n",
      "Epoch 00043: ReduceLROnPlateau reducing learning rate to 1.525878978725359e-08.\n",
      "Epoch 44/50\n",
      "21/21 [==============================] - 30s 1s/step - loss: 0.3775 - categorical_accuracy: 0.8601 - val_loss: 0.9439 - val_categorical_accuracy: 0.7500\n",
      "\n",
      "Epoch 00044: saving model to model_init_2020-05-2414_09_58.387065/model-00044-0.37752-0.86012-0.94392-0.75000.h5\n",
      "Epoch 45/50\n",
      "21/21 [==============================] - 31s 1s/step - loss: 0.3893 - categorical_accuracy: 0.8854 - val_loss: 0.9856 - val_categorical_accuracy: 0.7031\n",
      "\n",
      "Epoch 00045: saving model to model_init_2020-05-2414_09_58.387065/model-00045-0.38932-0.88542-0.98561-0.70312.h5\n",
      "\n",
      "Epoch 00045: ReduceLROnPlateau reducing learning rate to 7.629394893626795e-09.\n",
      "Epoch 46/50\n",
      "21/21 [==============================] - 31s 1s/step - loss: 0.4352 - categorical_accuracy: 0.8557 - val_loss: 0.9525 - val_categorical_accuracy: 0.7188\n",
      "\n",
      "Epoch 00046: saving model to model_init_2020-05-2414_09_58.387065/model-00046-0.43516-0.85565-0.95248-0.71875.h5\n",
      "Epoch 47/50\n",
      "21/21 [==============================] - 30s 1s/step - loss: 0.3998 - categorical_accuracy: 0.8720 - val_loss: 0.9720 - val_categorical_accuracy: 0.7500\n",
      "\n",
      "Epoch 00047: saving model to model_init_2020-05-2414_09_58.387065/model-00047-0.39984-0.87202-0.97197-0.75000.h5\n",
      "\n",
      "Epoch 00047: ReduceLROnPlateau reducing learning rate to 3.814697446813398e-09.\n",
      "Epoch 48/50\n",
      "21/21 [==============================] - 31s 1s/step - loss: 0.4207 - categorical_accuracy: 0.8631 - val_loss: 0.9421 - val_categorical_accuracy: 0.7266\n",
      "\n",
      "Epoch 00048: saving model to model_init_2020-05-2414_09_58.387065/model-00048-0.42066-0.86310-0.94211-0.72656.h5\n",
      "Epoch 49/50\n",
      "21/21 [==============================] - 31s 1s/step - loss: 0.3889 - categorical_accuracy: 0.8690 - val_loss: 0.8798 - val_categorical_accuracy: 0.7188\n",
      "\n",
      "Epoch 00049: saving model to model_init_2020-05-2414_09_58.387065/model-00049-0.38894-0.86905-0.87976-0.71875.h5\n",
      "\n",
      "Epoch 00049: ReduceLROnPlateau reducing learning rate to 1.907348723406699e-09.\n",
      "Epoch 50/50\n",
      "21/21 [==============================] - 31s 1s/step - loss: 0.4119 - categorical_accuracy: 0.8646 - val_loss: 0.9911 - val_categorical_accuracy: 0.7266\n",
      "\n",
      "Epoch 00050: saving model to model_init_2020-05-2414_09_58.387065/model-00050-0.41190-0.86458-0.99109-0.72656.h5\n"
     ]
    },
    {
     "data": {
      "text/plain": [
       "<keras.callbacks.History at 0x7f6317b41358>"
      ]
     },
     "execution_count": 23,
     "metadata": {},
     "output_type": "execute_result"
    }
   ],
   "source": [
    "conv3d_model.fit_generator(train_generator, steps_per_epoch=steps_per_epoch, epochs=num_epochs, verbose=1, \n",
    "                    callbacks=callbacks_list, validation_data=val_generator, \n",
    "                    validation_steps=validation_steps, class_weight=None, workers=1, initial_epoch=0)"
   ]
  },
  {
   "cell_type": "code",
   "execution_count": null,
   "metadata": {},
   "outputs": [],
   "source": []
  },
  {
   "cell_type": "code",
   "execution_count": null,
   "metadata": {},
   "outputs": [],
   "source": []
  }
 ],
 "metadata": {
  "kernelspec": {
   "display_name": "Python 3",
   "language": "python",
   "name": "python3"
  },
  "language_info": {
   "codemirror_mode": {
    "name": "ipython",
    "version": 3
   },
   "file_extension": ".py",
   "mimetype": "text/x-python",
   "name": "python",
   "nbconvert_exporter": "python",
   "pygments_lexer": "ipython3",
   "version": "3.6.8"
  }
 },
 "nbformat": 4,
 "nbformat_minor": 4
}
